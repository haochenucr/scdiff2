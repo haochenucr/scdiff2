{
 "cells": [
  {
   "cell_type": "markdown",
   "metadata": {},
   "source": [
    "# loading in all the needed functions"
   ]
  },
  {
   "cell_type": "code",
   "execution_count": 1,
   "metadata": {},
   "outputs": [],
   "source": [
    "import sys,os\n",
    "from scdiff2.prerun import prerun\n",
    "from scdiff2.scdiff2 import inferGraph"
   ]
  },
  {
   "cell_type": "code",
   "execution_count": 2,
   "metadata": {},
   "outputs": [],
   "source": [
    "fnEx='example.E'  # input expression file, the format is the same as scdiff expression input\n",
    "outdir='example_out' # output directory\n",
    "iformat='raw'  # format, it can be raw/norm (please use raw if the data was not normalized)"
   ]
  },
  {
   "cell_type": "markdown",
   "metadata": {},
   "source": [
    "# 1. Run the scdiff2 pre-run program"
   ]
  },
  {
   "cell_type": "code",
   "execution_count": 3,
   "metadata": {},
   "outputs": [
    {
     "name": "stdout",
     "output_type": "stream",
     "text": [
      "1\n"
     ]
    },
    {
     "name": "stderr",
     "output_type": "stream",
     "text": [
      "... storing 'label' as categorical\n",
      "... storing 'time' as categorical\n"
     ]
    },
    {
     "name": "stdout",
     "output_type": "stream",
     "text": [
      "pre-processing...\n",
      "WARNING: saving figure to file example_out/figures/scatter_mt.pdf\n",
      "WARNING: saving figure to file example_out/figures/scatter_n_genes.pdf\n",
      "WARNING: saving figure to file example_out/figures/filter_genes_dispersion.pdf\n",
      "WARNING: saving figure to file example_out/figures/paga_Traj.pdf\n",
      "WARNING: saving figure to file example_out/figures/umap_clustering.pdf\n",
      "WARNING: saving figure to file example_out/figures/rank_genes_groups_leiden_global_DE_genes.pdf\n",
      "\n",
      "\n",
      ">>>>------------------------------------------------<<<<\n",
      "prerun completed! please run scdiff for the second pass\n"
     ]
    },
    {
     "data": {
      "text/plain": [
       "AnnData object with n_obs × n_vars = 152 × 5342\n",
       "    obs: 'label', 'time', 'n_genes', 'n_genes_by_counts', 'total_counts', 'total_counts_mt', 'pct_counts_mt', 'leiden'\n",
       "    var: 'n_cells', 'mt', 'n_cells_by_counts', 'mean_counts', 'pct_dropout_by_counts', 'total_counts', 'highly_variable', 'means', 'dispersions', 'dispersions_norm'\n",
       "    uns: 'log1p', 'pca', 'neighbors', 'diffmap_evals', 'leiden', 'paga', 'leiden_sizes', 'leiden_colors', 'umap', 'rank_genes_groups'\n",
       "    obsm: 'X_pca', 'X_diffmap', 'X_umap'\n",
       "    varm: 'PCs'\n",
       "    obsp: 'distances', 'connectivities'"
      ]
     },
     "execution_count": 3,
     "metadata": {},
     "output_type": "execute_result"
    },
    {
     "data": {
      "image/png": "[encoded data removed]",
      "text/plain": [
       "<Figure size 432x288 with 1 Axes>"
      ]
     },
     "metadata": {
      "needs_background": "light"
     },
     "output_type": "display_data"
    }
   ],
   "source": [
    "prerun(fnEx,outdir,iformat)"
   ]
  },
  {
   "cell_type": "markdown",
   "metadata": {},
   "source": [
    "After completing prerun, you will find the pre-run results inside the specified example_out direcotry.  \n",
    "example.E.h5ad -> pre-run results in h5ad format.    \n",
    "figures -> all the figures generated in the preurn analysis  \n",
    "(1) umap_clustering.pdf -> clustering results (visualized by umap)  \n",
    "(2) paga_Traj.pdf -> initial tree trajectory by PAGA  "
   ]
  },
  {
   "cell_type": "markdown",
   "metadata": {},
   "source": [
    "# 2. Run the scdiff2 main program"
   ]
  },
  {
   "cell_type": "code",
   "execution_count": null,
   "metadata": {},
   "outputs": [],
   "source": [
    "scg='example_out/example.E.h5ad'  # h5ad results from pre-run\n",
    "output='example_out'              # result folder \n",
    "tfdna='example_tfdna.txt'         # tf-dna file\n",
    "tfList=None                       # tflist file, set None to use the default human/mouse one\n",
    "fChangecut=0.6                     \n",
    "ncores=10\n",
    "rootNode=None                     # rootnode index, set None to detect automatically\n",
    "llhcut=0.01\n",
    "inferGraph(scg,output,tfdna,tfList,fChangecut,ncores,rootNode,llhcut)"
   ]
  },
  {
   "cell_type": "markdown",
   "metadata": {},
   "source": [
    "# 3. Alternative running method:\n",
    "After installing the scdiff2 software, call the prerun and scdiff2 program subsequentially.  "
   ]
  },
  {
   "cell_type": "markdown",
   "metadata": {},
   "source": [
    "(1) 1st pass- run scdiff2 prerun program"
   ]
  },
  {
   "cell_type": "code",
   "execution_count": null,
   "metadata": {},
   "outputs": [],
   "source": [
    "os.system(\"prerun -i example.E -o example_out -f raw\")"
   ]
  },
  {
   "cell_type": "markdown",
   "metadata": {},
   "source": [
    "(2)  2nd pass- run scdiff2 main program"
   ]
  },
  {
   "cell_type": "raw",
   "metadata": {},
   "source": [
    "os.system(\"scdiff2 -i example_out/example.E.h5ad -o example_out -t example_tfdna.txt --ncores 10\")"
   ]
  },
  {
   "cell_type": "code",
   "execution_count": null,
   "metadata": {},
   "outputs": [],
   "source": []
  }
 ],
 "metadata": {
  "kernelspec": {
   "display_name": "Python 3",
   "language": "python",
   "name": "python3"
  },
  "language_info": {
   "codemirror_mode": {
    "name": "ipython",
    "version": 3
   },
   "file_extension": ".py",
   "mimetype": "text/x-python",
   "name": "python",
   "nbconvert_exporter": "python",
   "pygments_lexer": "ipython3",
   "version": "3.6.9"
  }
 },
 "nbformat": 4,
 "nbformat_minor": 4
}
