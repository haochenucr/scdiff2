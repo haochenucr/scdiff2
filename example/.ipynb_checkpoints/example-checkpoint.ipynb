{
 "cells": [
  {
   "cell_type": "markdown",
   "metadata": {},
   "source": [
    "# loading in all the needed functions"
   ]
  },
  {
   "cell_type": "code",
   "execution_count": 1,
   "metadata": {},
   "outputs": [],
   "source": [
    "import sys,os\n",
    "from scdiff2.prerun import prerun\n",
    "from scdiff2.scdiff2 import inferGraph"
   ]
  },
  {
   "cell_type": "code",
   "execution_count": 2,
   "metadata": {},
   "outputs": [],
   "source": [
    "fnEx='example.E'  # input expression file, the format is the same as scdiff expression input\n",
    "outdir='example_out' # output directory\n",
    "iformat='raw'  # format, it can be raw/norm (please use raw if the data was not normalized)"
   ]
  },
  {
   "cell_type": "markdown",
   "metadata": {},
   "source": [
    "# 1. Run the scdiff2 pre-run program"
   ]
  },
  {
   "cell_type": "code",
   "execution_count": 3,
   "metadata": {},
   "outputs": [
    {
     "name": "stdout",
     "output_type": "stream",
     "text": [
      "1\n"
     ]
    },
    {
     "name": "stderr",
     "output_type": "stream",
     "text": [
      "... storing 'label' as categorical\n",
      "... storing 'time' as categorical\n"
     ]
    },
    {
     "name": "stdout",
     "output_type": "stream",
     "text": [
      "pre-processing...\n",
      "WARNING: saving figure to file example_out/figures/violin_qc.pdf\n",
      "WARNING: saving figure to file example_out/figures/scatter_mt.pdf\n",
      "WARNING: saving figure to file example_out/figures/scatter_n_genes.pdf\n",
      "WARNING: saving figure to file example_out/figures/filter_genes_dispersion.pdf\n",
      "WARNING: saving figure to file example_out/figures/paga_Traj.pdf\n",
      "WARNING: saving figure to file example_out/figures/umap_clustering.pdf\n",
      "WARNING: saving figure to file example_out/figures/rank_genes_groups_leiden_global_DE_genes.pdf\n",
      "\n",
      "\n",
      ">>>>------------------------------------------------<<<<\n",
      "prerun completed! please run scdiff for the second pass\n"
     ]
    },
    {
     "data": {
      "image/png": "[encoded data removed]",
      "text/plain": [
       "<Figure size 432x288 with 1 Axes>"
      ]
     },
     "metadata": {
      "needs_background": "light"
     },
     "output_type": "display_data"
    }
   ],
   "source": [
    "d1=prerun(fnEx,outdir,iformat)"
   ]
  },
  {
   "cell_type": "code",
   "execution_count": 4,
   "metadata": {},
   "outputs": [
    {
     "data": {
      "text/plain": [
       "AnnData object with n_obs × n_vars = 152 × 5342\n",
       "    obs: 'label', 'time', 'n_genes', 'n_genes_by_counts', 'total_counts', 'total_counts_mt', 'pct_counts_mt', 'leiden'\n",
       "    var: 'n_cells', 'mt', 'n_cells_by_counts', 'mean_counts', 'pct_dropout_by_counts', 'total_counts', 'highly_variable', 'means', 'dispersions', 'dispersions_norm'\n",
       "    uns: 'log1p', 'pca', 'neighbors', 'diffmap_evals', 'leiden', 'paga', 'leiden_sizes', 'leiden_colors', 'umap', 'rank_genes_groups'\n",
       "    obsm: 'X_pca', 'X_diffmap', 'X_umap'\n",
       "    varm: 'PCs'\n",
       "    obsp: 'distances', 'connectivities'"
      ]
     },
     "execution_count": 4,
     "metadata": {},
     "output_type": "execute_result"
    }
   ],
   "source": [
    "d1"
   ]
  },
  {
   "cell_type": "markdown",
   "metadata": {},
   "source": [
    "After completing prerun, you will find the pre-run results inside the specified example_out direcotry.  \n",
    "example.E.h5ad -> pre-run results in h5ad format.    \n",
    "figures -> all the figures generated in the preurn analysis  \n",
    "(1) umap_clustering.pdf -> clustering results (visualized by umap)  \n",
    "(2) paga_Traj.pdf -> initial tree trajectory by PAGA  "
   ]
  },
  {
   "cell_type": "markdown",
   "metadata": {},
   "source": [
    "# 2. Run the scdiff2 main program"
   ]
  },
  {
   "cell_type": "code",
   "execution_count": 5,
   "metadata": {},
   "outputs": [
    {
     "name": "stdout",
     "output_type": "stream",
     "text": [
      "loading back prerun results (h5ad) ...\n",
      "reading cells ...\n",
      "cell: 0\n",
      "cell: 1\n",
      "cell: 2\n",
      "cell: 3\n",
      "cell: 4\n",
      "cell: 5\n",
      "cell: 6\n",
      "cell: 7\n",
      "cell: 8\n",
      "cell: 9\n",
      "cell: 10\n",
      "cell: 11\n",
      "cell: 12\n",
      "cell: 13\n",
      "cell: 14\n",
      "cell: 15\n",
      "cell: 16\n",
      "cell: 17\n",
      "cell: 18\n",
      "cell: 19\n",
      "cell: 20\n",
      "cell: 21\n",
      "cell: 22\n",
      "cell: 23\n",
      "cell: 24\n",
      "cell: 25\n",
      "cell: 26\n",
      "cell: 27\n",
      "cell: 28\n",
      "cell: 29\n",
      "cell: 30\n",
      "cell: 31\n",
      "cell: 32\n",
      "cell: 33\n",
      "cell: 34\n",
      "cell: 35\n",
      "cell: 36\n",
      "cell: 37\n",
      "cell: 38\n",
      "cell: 39\n",
      "cell: 40\n",
      "cell: 41\n",
      "cell: 42\n",
      "cell: 43\n",
      "cell: 44\n",
      "cell: 45\n",
      "cell: 46\n",
      "cell: 47\n",
      "cell: 48\n",
      "cell: 49\n",
      "cell: 50\n",
      "cell: 51\n",
      "cell: 52\n",
      "cell: 53\n",
      "cell: 54\n",
      "cell: 55\n",
      "cell: 56\n",
      "cell: 57\n",
      "cell: 58\n",
      "cell: 59\n",
      "cell: 60\n",
      "cell: 61\n",
      "cell: 62\n",
      "cell: 63\n",
      "cell: 64\n",
      "cell: 65\n",
      "cell: 66\n",
      "cell: 67\n",
      "cell: 68\n",
      "cell: 69\n",
      "cell: 70\n",
      "cell: 71\n",
      "cell: 72\n",
      "cell: 73\n",
      "cell: 74\n",
      "cell: 75\n",
      "cell: 76\n",
      "cell: 77\n",
      "cell: 78\n",
      "cell: 79\n",
      "cell: 80\n",
      "cell: 81\n",
      "cell: 82\n",
      "cell: 83\n",
      "cell: 84\n",
      "cell: 85\n",
      "cell: 86\n",
      "cell: 87\n",
      "cell: 88\n",
      "cell: 89\n",
      "cell: 90\n",
      "cell: 91\n",
      "cell: 92\n",
      "cell: 93\n",
      "cell: 94\n",
      "cell: 95\n",
      "cell: 96\n",
      "cell: 97\n",
      "cell: 98\n",
      "cell: 99\n",
      "cell: 100\n",
      "cell: 101\n",
      "cell: 102\n",
      "cell: 103\n",
      "cell: 104\n",
      "cell: 105\n",
      "cell: 106\n",
      "cell: 107\n",
      "cell: 108\n",
      "cell: 109\n",
      "cell: 110\n",
      "cell: 111\n",
      "cell: 112\n",
      "cell: 113\n",
      "cell: 114\n",
      "cell: 115\n",
      "cell: 116\n",
      "cell: 117\n",
      "cell: 118\n",
      "cell: 119\n",
      "cell: 120\n",
      "cell: 121\n",
      "cell: 122\n",
      "cell: 123\n",
      "cell: 124\n",
      "cell: 125\n",
      "cell: 126\n",
      "cell: 127\n",
      "cell: 128\n",
      "cell: 129\n",
      "cell: 130\n",
      "cell: 131\n",
      "cell: 132\n",
      "cell: 133\n",
      "cell: 134\n",
      "cell: 135\n",
      "cell: 136\n",
      "cell: 137\n",
      "cell: 138\n",
      "cell: 139\n",
      "cell: 140\n",
      "cell: 141\n",
      "cell: 142\n",
      "cell: 143\n",
      "cell: 144\n",
      "cell: 145\n",
      "cell: 146\n",
      "cell: 147\n",
      "cell: 148\n",
      "cell: 149\n",
      "cell: 150\n",
      "cell: 151\n",
      "clustering cells ...\n",
      "building graph (tree)...\n"
     ]
    },
    {
     "ename": "NameError",
     "evalue": "name 'rootnode' is not defined",
     "output_type": "error",
     "traceback": [
      "\u001b[0;31m---------------------------------------------------------------------------\u001b[0m",
      "\u001b[0;31mNameError\u001b[0m                                 Traceback (most recent call last)",
      "\u001b[0;32m<ipython-input-5-0a49584587a6>\u001b[0m in \u001b[0;36m<module>\u001b[0;34m\u001b[0m\n\u001b[1;32m      7\u001b[0m \u001b[0mrootNode\u001b[0m\u001b[0;34m=\u001b[0m\u001b[0;32mNone\u001b[0m\u001b[0;34m\u001b[0m\u001b[0;34m\u001b[0m\u001b[0m\n\u001b[1;32m      8\u001b[0m \u001b[0mllhcut\u001b[0m\u001b[0;34m=\u001b[0m\u001b[0;36m0.01\u001b[0m\u001b[0;34m\u001b[0m\u001b[0;34m\u001b[0m\u001b[0m\n\u001b[0;32m----> 9\u001b[0;31m \u001b[0minferGraph\u001b[0m\u001b[0;34m(\u001b[0m\u001b[0mscg\u001b[0m\u001b[0;34m,\u001b[0m\u001b[0moutput\u001b[0m\u001b[0;34m,\u001b[0m\u001b[0mtfdna\u001b[0m\u001b[0;34m,\u001b[0m\u001b[0mtfList\u001b[0m\u001b[0;34m,\u001b[0m\u001b[0mfChangecut\u001b[0m\u001b[0;34m,\u001b[0m\u001b[0mncores\u001b[0m\u001b[0;34m,\u001b[0m\u001b[0mrootNode\u001b[0m\u001b[0;34m,\u001b[0m\u001b[0mllhcut\u001b[0m\u001b[0;34m)\u001b[0m\u001b[0;34m\u001b[0m\u001b[0;34m\u001b[0m\u001b[0m\n\u001b[0m",
      "\u001b[0;32m/usr/local/lib/python3.6/dist-packages/scdiff2-1.0.0-py3.6.egg/scdiff2/scdiff2.py\u001b[0m in \u001b[0;36minferGraph\u001b[0;34m(scg, output, tfdna, tfList, fChangeCut, ncores, rootNode, llhcut)\u001b[0m\n\u001b[1;32m    800\u001b[0m         \u001b[0mprint\u001b[0m\u001b[0;34m(\u001b[0m\u001b[0;34m\"building graph (tree)...\"\u001b[0m\u001b[0;34m)\u001b[0m\u001b[0;34m\u001b[0m\u001b[0;34m\u001b[0m\u001b[0m\n\u001b[1;32m    801\u001b[0m \u001b[0;34m\u001b[0m\u001b[0m\n\u001b[0;32m--> 802\u001b[0;31m         \u001b[0mG1\u001b[0m\u001b[0;34m=\u001b[0m\u001b[0mGraph\u001b[0m\u001b[0;34m(\u001b[0m\u001b[0mAllCells\u001b[0m\u001b[0;34m,\u001b[0m\u001b[0mtfdna\u001b[0m\u001b[0;34m,\u001b[0m\u001b[0mtfList\u001b[0m\u001b[0;34m,\u001b[0m\u001b[0mclusters\u001b[0m\u001b[0;34m,\u001b[0m\u001b[0mpagaConnects\u001b[0m\u001b[0;34m,\u001b[0m\u001b[0mrootnode\u001b[0m\u001b[0;34m,\u001b[0m\u001b[0mGL\u001b[0m\u001b[0;34m,\u001b[0m\u001b[0mfChangeCut\u001b[0m\u001b[0;34m)\u001b[0m\u001b[0;34m\u001b[0m\u001b[0;34m\u001b[0m\u001b[0m\n\u001b[0m\u001b[1;32m    803\u001b[0m \u001b[0;34m\u001b[0m\u001b[0m\n\u001b[1;32m    804\u001b[0m         \u001b[0;31m#drawing graphs\u001b[0m\u001b[0;34m\u001b[0m\u001b[0;34m\u001b[0m\u001b[0;34m\u001b[0m\u001b[0m\n",
      "\u001b[0;31mNameError\u001b[0m: name 'rootnode' is not defined"
     ]
    }
   ],
   "source": [
    "scg='example_out/example.E.h5ad'  # h5ad results from pre-run\n",
    "output='example_out'              # result folder \n",
    "tfdna='example_tfdna.txt'         # tf-dna file\n",
    "tfList=None                       # tflist file, set None to use the default human/mouse one\n",
    "fChangecut=0.6                     \n",
    "ncores=10\n",
    "rootNode=None                     # rootnode index, set None to detect automatically\n",
    "llhcut=0.01\n",
    "inferGraph(scg,output,tfdna,tfList,fChangecut,ncores,rootNode,llhcut)"
   ]
  },
  {
   "cell_type": "code",
   "execution_count": null,
   "metadata": {},
   "outputs": [],
   "source": [
    "import anndata"
   ]
  },
  {
   "cell_type": "code",
   "execution_count": null,
   "metadata": {},
   "outputs": [],
   "source": [
    "d1=anndata.read_h5ad(\"example_out/example.E.h5ad\")"
   ]
  },
  {
   "cell_type": "code",
   "execution_count": null,
   "metadata": {},
   "outputs": [],
   "source": [
    "d1.obs"
   ]
  },
  {
   "cell_type": "code",
   "execution_count": null,
   "metadata": {},
   "outputs": [],
   "source": []
  }
 ],
 "metadata": {
  "kernelspec": {
   "display_name": "Python 3",
   "language": "python",
   "name": "python3"
  },
  "language_info": {
   "codemirror_mode": {
    "name": "ipython",
    "version": 3
   },
   "file_extension": ".py",
   "mimetype": "text/x-python",
   "name": "python",
   "nbconvert_exporter": "python",
   "pygments_lexer": "ipython3",
   "version": "3.6.9"
  }
 },
 "nbformat": 4,
 "nbformat_minor": 4
}
